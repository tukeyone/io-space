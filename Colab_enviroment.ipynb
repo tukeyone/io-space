{
  "nbformat": 4,
  "nbformat_minor": 0,
  "metadata": {
    "colab": {
      "name": "Colab_enviroment.ipynb",
      "version": "0.3.2",
      "provenance": [],
      "collapsed_sections": [],
      "include_colab_link": true
    },
    "kernelspec": {
      "name": "python3",
      "display_name": "Python 3"
    }
  },
  "cells": [
    {
      "cell_type": "markdown",
      "metadata": {
        "id": "view-in-github",
        "colab_type": "text"
      },
      "source": [
        "<a href=\"https://colab.research.google.com/github/tukeyone/io-space/blob/master/Colab_enviroment.ipynb\" target=\"_parent\"><img src=\"https://colab.research.google.com/assets/colab-badge.svg\" alt=\"Open In Colab\"/></a>"
      ]
    },
    {
      "cell_type": "markdown",
      "metadata": {
        "id": "Zr80LmYGCclc",
        "colab_type": "text"
      },
      "source": [
        "#### 启动硬盘"
      ]
    },
    {
      "cell_type": "code",
      "metadata": {
        "id": "UJdFMWAlCAdu",
        "colab_type": "code",
        "outputId": "f70a8e2f-1b28-42ca-fae7-3b712ca2f65c",
        "colab": {
          "base_uri": "https://localhost:8080/",
          "height": 52
        }
      },
      "source": [
        "ls -a"
      ],
      "execution_count": 22,
      "outputs": [
        {
          "output_type": "stream",
          "text": [
            " Colab_enviroment.ipynb   \u001b[0m\u001b[01;34mGames\u001b[0m/                  Python_environment.ipynb\n",
            " \u001b[01;34mcompetition\u001b[0m/             \u001b[01;34mkeras-mnist-tutorial\u001b[0m/  'TensorFlow with GPU'\n"
          ],
          "name": "stdout"
        }
      ]
    },
    {
      "cell_type": "code",
      "metadata": {
        "id": "-SZ0k2m5CDxx",
        "colab_type": "code",
        "outputId": "bbda7915-795f-4e17-fd7c-463f532873ee",
        "colab": {
          "base_uri": "https://localhost:8080/",
          "height": 34
        }
      },
      "source": [
        "cd .."
      ],
      "execution_count": 0,
      "outputs": [
        {
          "output_type": "stream",
          "text": [
            "/\n"
          ],
          "name": "stdout"
        }
      ]
    },
    {
      "cell_type": "code",
      "metadata": {
        "id": "NswVg5TZCTBV",
        "colab_type": "code",
        "outputId": "aecd2233-0071-4d99-bd33-04e0313289cd",
        "colab": {
          "base_uri": "https://localhost:8080/",
          "height": 70
        }
      },
      "source": [
        "ls -a"
      ],
      "execution_count": 0,
      "outputs": [
        {
          "output_type": "stream",
          "text": [
            "\u001b[0m\u001b[01;34m.\u001b[0m/    \u001b[01;34mboot\u001b[0m/     \u001b[01;34mdev\u001b[0m/         \u001b[01;34mhome\u001b[0m/   \u001b[01;34mlib64\u001b[0m/  \u001b[01;34mopt\u001b[0m/   \u001b[01;34mrun\u001b[0m/   \u001b[01;34mswift\u001b[0m/  \u001b[01;34mtools\u001b[0m/\n",
            "\u001b[01;34m..\u001b[0m/   \u001b[01;34mcontent\u001b[0m/  \u001b[01;32m.dockerenv\u001b[0m*  \u001b[01;34mlib\u001b[0m/    \u001b[01;34mmedia\u001b[0m/  \u001b[01;34mproc\u001b[0m/  \u001b[01;34msbin\u001b[0m/  \u001b[01;34msys\u001b[0m/    \u001b[01;34musr\u001b[0m/\n",
            "\u001b[01;34mbin\u001b[0m/  \u001b[01;34mdatalab\u001b[0m/  \u001b[01;34metc\u001b[0m/         \u001b[01;34mlib32\u001b[0m/  \u001b[01;34mmnt\u001b[0m/    \u001b[01;34mroot\u001b[0m/  \u001b[01;34msrv\u001b[0m/   \u001b[30;42mtmp\u001b[0m/    \u001b[01;34mvar\u001b[0m/\n"
          ],
          "name": "stdout"
        }
      ]
    },
    {
      "cell_type": "code",
      "metadata": {
        "id": "uuWBydLR7Ss0",
        "colab_type": "code",
        "outputId": "81383f80-4467-4974-c1c5-97f86ea38d9e",
        "colab": {
          "base_uri": "https://localhost:8080/",
          "height": 34
        }
      },
      "source": [
        "from google.colab import drive\n",
        "drive.mount('/content/drive')\n",
        "# drive.mount(\"/content/drive\", force_remount=True)"
      ],
      "execution_count": 0,
      "outputs": [
        {
          "output_type": "stream",
          "text": [
            "Mounted at /content/drive\n"
          ],
          "name": "stdout"
        }
      ]
    },
    {
      "cell_type": "markdown",
      "metadata": {
        "id": "BMKDrE4a9RmF",
        "colab_type": "text"
      },
      "source": [
        "### 设置根目录"
      ]
    },
    {
      "cell_type": "code",
      "metadata": {
        "id": "Xt1b5PxbKYYl",
        "colab_type": "code",
        "colab": {}
      },
      "source": [
        "import os\n",
        "os.chdir(\"../content/drive/My Drive/colab-notebooks\")"
      ],
      "execution_count": 0,
      "outputs": []
    },
    {
      "cell_type": "code",
      "metadata": {
        "colab_type": "code",
        "id": "fua3gC0E59k0",
        "outputId": "1a908d21-a864-4cbf-e820-9280a2f6bacc",
        "colab": {
          "base_uri": "https://localhost:8080/",
          "height": 105
        }
      },
      "source": [
        "ls -a"
      ],
      "execution_count": 0,
      "outputs": [
        {
          "output_type": "stream",
          "text": [
            "'Colab enviroment.ipynb'   '“TensorFlow with GPU”的副本'   Untitled2.ipynb\n",
            " Colab.ipynb                Titanic.csv                    Untitled3.ipynb\n",
            " \u001b[0m\u001b[01;34mkeras-mnist-tutorial\u001b[0m/      Titanic.csv.1                  zzx4.ipynb\n",
            " Python_environment.ipynb   Untitled0.ipynb\n",
            "'TensorFlow with GPU'       Untitled1.ipynb\n"
          ],
          "name": "stdout"
        }
      ]
    },
    {
      "cell_type": "markdown",
      "metadata": {
        "id": "Z1Ib4jsx9nPr",
        "colab_type": "text"
      },
      "source": [
        "### 测试"
      ]
    },
    {
      "cell_type": "code",
      "metadata": {
        "colab_type": "code",
        "outputId": "ddba413a-2fb5-4326-c504-04e7a78a2459",
        "id": "PVxioOsm58xc",
        "colab": {
          "base_uri": "https://localhost:8080/",
          "height": 335
        }
      },
      "source": [
        "import tensorflow as tf\n",
        "print(tf.test.gpu_device_name())\n",
        "\n",
        "\n",
        "print('hard drive info \\n=================')\n",
        "!df -H\n",
        "\n",
        "\n",
        "print(\"RAM info \\n=================\")\n",
        "!free -h \n",
        "\n",
        "\n",
        "!whoami"
      ],
      "execution_count": 0,
      "outputs": [
        {
          "output_type": "stream",
          "text": [
            "\n",
            "hard drive info \n",
            "=================\n",
            "Filesystem      Size  Used Avail Use% Mounted on\n",
            "overlay          53G   24G   27G  48% /\n",
            "tmpfs           6.9G     0  6.9G   0% /dev\n",
            "tmpfs           6.9G     0  6.9G   0% /sys/fs/cgroup\n",
            "tmpfs           6.9G  8.2k  6.9G   1% /var/colab\n",
            "/dev/sda1        59G   25G   35G  42% /etc/hosts\n",
            "shm             6.5G     0  6.5G   0% /dev/shm\n",
            "tmpfs           6.9G     0  6.9G   0% /sys/firmware\n",
            "drive            17G   12M   17G   1% /content/drive\n",
            "RAM info \n",
            "=================\n",
            "              total        used        free      shared  buff/cache   available\n",
            "Mem:            12G        729M         10G        868K        1.4G         11G\n",
            "Swap:            0B          0B          0B\n",
            "root\n"
          ],
          "name": "stdout"
        }
      ]
    },
    {
      "cell_type": "markdown",
      "metadata": {
        "colab_type": "text",
        "id": "OjEnJ1DK56cT"
      },
      "source": [
        "### 基本Python环境"
      ]
    },
    {
      "cell_type": "code",
      "metadata": {
        "colab_type": "code",
        "outputId": "165fff2b-647f-466b-8f4e-98070fb1cfa6",
        "id": "53gaSs2K554M",
        "colab": {
          "base_uri": "https://localhost:8080/",
          "height": 317
        }
      },
      "source": [
        "print(\"● Python environment\")\n",
        "import sys\n",
        "print(f\"Python version is {sys.version}\")\n",
        "# print(f\"Python path is {sys.executable}\")\n",
        "\n",
        "\n",
        "print(\"● Python Base\")\n",
        "import re\n",
        "print(f\"Re version is {re.__version__}\")\n",
        "\n",
        "print(\"● Python Development\")\n",
        "import requests\n",
        "print(f\"Request version is {requests.__version__}\")\n",
        "\n",
        "\n",
        "print(\"● Data Analyist\")\n",
        "import numpy as np\n",
        "print(f\"Numpy version is {np.__version__}\")\n",
        "import pandas as pd\n",
        "print(f\"Pandas version is {pd.__version__}\")\n",
        "\n",
        "\n",
        "print(\"● Machine Learning\")\n",
        "import sklearn\n",
        "print(f\"Sklearn version is {sklearn.__version__}\")\n",
        "import xgboost as xgb\n",
        "print(f\"xgboost version is {xgb.__version__}\")\n",
        "import lightgbm as lgb\n",
        "print(f\"lightgbm version is {lgb.__version__}\")\n",
        "\n",
        "\n",
        "print(\"● Graph and Network\")\n",
        "import keras\n",
        "print(f\"Keras version is {keras.__version__}\")\n",
        "import tensorflow as tf\n",
        "print(f\"Tensorflow version is {tf.__version__}\")\n",
        "\n",
        "\n",
        "# print(\"● Auto Machine Learning\")\n",
        "# import h2o\n",
        "# print(f\"h2o version is {h2o.__version__}\")\n",
        "\n",
        "# import auto_ml\n",
        "# print(f\"auto_ml version is {auto_ml.__version__}\")\n",
        "\n",
        "\n",
        "# pip install auto_ml"
      ],
      "execution_count": 0,
      "outputs": [
        {
          "output_type": "stream",
          "text": [
            "● Python environment\n",
            "Python version is 3.6.7 (default, Oct 22 2018, 11:32:17) \n",
            "[GCC 8.2.0]\n",
            "● Python Base\n",
            "Re version is 2.2.1\n",
            "● Python Development\n",
            "Request version is 2.21.0\n",
            "● Data Analyist\n",
            "Numpy version is 1.16.3\n",
            "Pandas version is 0.24.2\n",
            "● Machine Learning\n",
            "Sklearn version is 0.20.3\n",
            "xgboost version is 0.82\n",
            "lightgbm version is 2.2.3\n",
            "● Graph and Network\n",
            "Keras version is 2.2.4\n",
            "Tensorflow version is 1.13.1\n"
          ],
          "name": "stdout"
        }
      ]
    },
    {
      "cell_type": "code",
      "metadata": {
        "id": "ToS3B6CqDjKo",
        "colab_type": "code",
        "colab": {}
      },
      "source": [
        ""
      ],
      "execution_count": 0,
      "outputs": []
    },
    {
      "cell_type": "markdown",
      "metadata": {
        "id": "XhSumagRFkUe",
        "colab_type": "text"
      },
      "source": [
        "### Colab 环境配置"
      ]
    },
    {
      "cell_type": "code",
      "metadata": {
        "id": "9c3a6IAOFk4X",
        "colab_type": "code",
        "colab": {}
      },
      "source": [
        "# !apt-get install -y -qq software-properties-common python-software-properties module-init-tools\n",
        "# !add-apt-repository -y ppa:alessandro-strada/ppa 2>&1 > /dev/null\n",
        "# !apt-get update -qq 2>&1 > /dev/null\n",
        "# !apt-get -y install -qq google-drive-ocamlfuse fuse\n",
        "\n",
        "\n",
        "# !wget https://launchpad.net/~alessandro-strada/+archive/ubuntu/google-drive-ocamlfuse-beta/+build/15331130/+files/google-drive-ocamlfuse_0.7.0-0ubuntu1_amd64.deb\n",
        "# !dpkg -i google-drive-ocamlfuse_0.7.0-0ubuntu1_amd64.deb\n",
        "# !apt-get install -f\n",
        "# !apt-get -y install -qq fuse\n",
        "\n",
        "from google.colab import auth\n",
        "auth.authenticate_user()\n",
        "\n",
        "from oauth2client.client import GoogleCredentials\n",
        "creds = GoogleCredentials.get_application_default()\n",
        "# import getpass\n",
        "# !google-drive-ocamlfuse -headless -id={creds.client_id} -secret={creds.client_secret} < /dev/null 2>&1 | grep URL\n",
        "# vcode = getpass.getpass()\n",
        "# !echo {vcode} | google-drive-ocamlfuse -headless -id={creds.client_id} -secret={creds.client_secret}"
      ],
      "execution_count": 0,
      "outputs": []
    },
    {
      "cell_type": "code",
      "metadata": {
        "id": "D-nJcE-1FnQH",
        "colab_type": "code",
        "colab": {}
      },
      "source": [
        "# Install the PyDrive wrapper & import libraries.\n",
        "# This only needs to be done once per notebook.\n",
        "!pip install -U -q PyDrive\n",
        "from pydrive.auth import GoogleAuth\n",
        "from pydrive.drive import GoogleDrive\n",
        "from google.colab import auth\n",
        "from oauth2client.client import GoogleCredentials\n"
      ],
      "execution_count": 0,
      "outputs": []
    }
  ]
}